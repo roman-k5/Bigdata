{
  "nbformat": 4,
  "nbformat_minor": 0,
  "metadata": {
    "colab": {
      "provenance": []
    },
    "kernelspec": {
      "name": "python3",
      "display_name": "Python 3"
    },
    "language_info": {
      "name": "python"
    }
  },
  "cells": [
    {
      "cell_type": "code",
      "source": [
        "# STEP 1: Import required libraries\n",
        "from pyspark.sql import SparkSession\n",
        "from pyspark.sql.functions import col, when\n"
      ],
      "metadata": {
        "id": "xumsiENz16qM"
      },
      "execution_count": null,
      "outputs": []
    },
    {
      "cell_type": "code",
      "execution_count": null,
      "metadata": {
        "id": "VsR4aPhz1etX"
      },
      "outputs": [],
      "source": [
        "spark = SparkSession.builder.appName(\"DiabetesDataCleaningRequiredOnly\").getOrCreate()"
      ]
    },
    {
      "cell_type": "code",
      "source": [
        "df = spark.read.csv(\"modified_diabetic_data.csv\", header=True, inferSchema=True)"
      ],
      "metadata": {
        "id": "OYcM9yQC1_o-"
      },
      "execution_count": null,
      "outputs": []
    },
    {
      "cell_type": "code",
      "source": [
        "# Step 2: Select only the required columns\n",
        "required_columns = [\n",
        "    \"race\", \"gender\", \"age\",  # Patient Demographics\n",
        "    \"diag_1\", \"diag_2\", \"diag_3\",  # Diagnosis Codes\n",
        "    \"time_in_hospital\",  # Length of Stay\n",
        "    \"num_procedures\", \"num_lab_procedures\", \"num_medications\",  # Treatment Procedures\n",
        "    \"readmitted\",  # Readmission Rates\n",
        "    \"cost\"  # Cost of Care\n",
        "]\n",
        "df_cleaned = df.select(required_columns)"
      ],
      "metadata": {
        "id": "AstvPhFj2CJ7"
      },
      "execution_count": null,
      "outputs": []
    },
    {
      "cell_type": "code",
      "source": [
        "# Step 3: Handle missing values in the selected columns\n",
        "# Replace '?' with appropriate values\n",
        "most_frequent_race = df_cleaned.groupBy(\"race\").count().orderBy(col(\"count\").desc()).first()[\"race\"]\n",
        "df_cleaned = df_cleaned.withColumn(\"race\", when(col(\"race\") == \"?\", most_frequent_race).otherwise(col(\"race\")))\n",
        "df_cleaned = df_cleaned.withColumn(\"gender\", when(col(\"gender\") == \"?\", \"Unknown\").otherwise(col(\"gender\")))\n",
        "df_cleaned = df_cleaned.withColumn(\"gender\", when(col(\"gender\") == \"Unknown/Invalid\", \"Unknown\").otherwise(col(\"gender\")))\n",
        "df_cleaned = df_cleaned.withColumn(\"diag_1\", when(col(\"diag_1\") == \"?\", \"Unknown\").otherwise(col(\"diag_1\")))\n",
        "df_cleaned = df_cleaned.withColumn(\"diag_2\", when(col(\"diag_2\") == \"?\", \"Unknown\").otherwise(col(\"diag_2\")))\n",
        "df_cleaned = df_cleaned.withColumn(\"diag_3\", when(col(\"diag_3\") == \"?\", \"Unknown\").otherwise(col(\"diag_3\")))\n"
      ],
      "metadata": {
        "id": "b1HV9tVA2P6a"
      },
      "execution_count": null,
      "outputs": []
    },
    {
      "cell_type": "code",
      "source": [
        "df_cleaned.show(10, truncate=False)"
      ],
      "metadata": {
        "colab": {
          "base_uri": "https://localhost:8080/"
        },
        "id": "ir99Fccw2mOn",
        "outputId": "4e489666-5674-44c1-896c-9c87417c15ce"
      },
      "execution_count": null,
      "outputs": [
        {
          "output_type": "stream",
          "name": "stdout",
          "text": [
            "+---------------+------+--------+------+-------+-------+----------------+--------------+------------------+---------------+----------+------------------+\n",
            "|race           |gender|age     |diag_1|diag_2 |diag_3 |time_in_hospital|num_procedures|num_lab_procedures|num_medications|readmitted|cost              |\n",
            "+---------------+------+--------+------+-------+-------+----------------+--------------+------------------+---------------+----------+------------------+\n",
            "|Caucasian      |Female|[0-10)  |250.83|Unknown|Unknown|1               |0             |41                |1              |No        |5385.64144960542  |\n",
            "|Caucasian      |Female|[10-20) |276   |250.01 |255    |3               |0             |59                |18             |Yes       |8960.53495702278  |\n",
            "|AfricanAmerican|Female|[20-30) |648   |250    |V27    |2               |5             |11                |13             |No        |8717.027146672363 |\n",
            "|Caucasian      |Male  |[30-40) |8     |250.43 |403    |2               |1             |44                |16             |No        |7204.935515290897 |\n",
            "|Caucasian      |Male  |[40-50) |197   |157    |250    |1               |0             |51                |8              |No        |7023.081756859493 |\n",
            "|Caucasian      |Male  |[50-60) |414   |411    |250    |3               |6             |31                |16             |Yes       |12540.495222435833|\n",
            "|Caucasian      |Male  |[60-70) |414   |411    |V45    |4               |1             |70                |21             |No        |11161.444008344142|\n",
            "|Caucasian      |Male  |[70-80) |428   |492    |250    |5               |0             |73                |12             |Yes       |9787.915809327033 |\n",
            "|Caucasian      |Female|[80-90) |398   |427    |38     |13              |2             |68                |28             |No        |16757.806952916544|\n",
            "|Caucasian      |Female|[90-100)|434   |198    |486    |12              |3             |33                |18             |No        |13489.434344740726|\n",
            "+---------------+------+--------+------+-------+-------+----------------+--------------+------------------+---------------+----------+------------------+\n",
            "only showing top 10 rows\n",
            "\n"
          ]
        }
      ]
    },
    {
      "cell_type": "code",
      "source": [
        "# Step 5: Save the cleaned dataset\n",
        "pandas_df_cleaned = df_cleaned.toPandas()\n",
        "cleaned_file_path = \"cleaned_diabetic_data_required_only.csv\"\n",
        "pandas_df_cleaned.to_csv(cleaned_file_path)\n",
        "\n",
        "print(f\"\\nCleaned dataset (required columns only) saved successfully at: {cleaned_file_path}\")"
      ],
      "metadata": {
        "colab": {
          "base_uri": "https://localhost:8080/"
        },
        "id": "j6rspFSn2q7N",
        "outputId": "bc8fef82-6958-4cf4-d27c-4ed5e1daac1a"
      },
      "execution_count": null,
      "outputs": [
        {
          "output_type": "stream",
          "name": "stdout",
          "text": [
            "\n",
            "Cleaned dataset (required columns only) saved successfully at: cleaned_diabetic_data_required_only.csv\n"
          ]
        }
      ]
    },
    {
      "cell_type": "markdown",
      "source": [
        "Data Transformation\n"
      ],
      "metadata": {
        "id": "O9aT4uhz5BsE"
      }
    },
    {
      "cell_type": "code",
      "source": [
        "df = spark.read.csv(\"cleaned_diabetic_data_required_only.csv\", header=True, inferSchema=True)"
      ],
      "metadata": {
        "id": "b1jc9G8x5HYq"
      },
      "execution_count": null,
      "outputs": []
    },
    {
      "cell_type": "code",
      "source": [
        "from pyspark.sql import SparkSession\n",
        "from pyspark.sql.functions import col, when, regexp_replace # Import regexp_replace\n",
        "from pyspark.sql.types import IntegerType # Import IntegerType\n",
        "# Extract the lower and upper bounds from the age range (e.g., [0-10) -> 0 and 10)\n",
        "df = df.withColumn(\"age_lower\", regexp_replace(col(\"age\"), r\"\\[(\\d+)-(\\d+)\\)\", \"$1\").cast(IntegerType()))\n",
        "df = df.withColumn(\"age_upper\", regexp_replace(col(\"age\"), r\"\\[(\\d+)-(\\d+)\\)\", \"$2\").cast(IntegerType()))\n",
        "\n",
        "# Compute the midpoint for the age range\n",
        "df = df.withColumn(\"age\", ((col(\"age_lower\") + col(\"age_upper\")) / 2).cast(IntegerType()))\n",
        "\n",
        "# Drop the temporary columns\n",
        "df = df.drop(\"age_lower\", \"age_upper\")\n",
        "\n",
        "# Show the transformed age column\n",
        "df.select(\"age\").show(5)"
      ],
      "metadata": {
        "colab": {
          "base_uri": "https://localhost:8080/"
        },
        "id": "NizVvDrr5BUl",
        "outputId": "3faf257f-b383-4be3-8b4c-ad6346b0227b"
      },
      "execution_count": null,
      "outputs": [
        {
          "output_type": "stream",
          "name": "stdout",
          "text": [
            "+---+\n",
            "|age|\n",
            "+---+\n",
            "|  5|\n",
            "| 15|\n",
            "| 25|\n",
            "| 35|\n",
            "| 45|\n",
            "+---+\n",
            "only showing top 5 rows\n",
            "\n"
          ]
        }
      ]
    },
    {
      "cell_type": "code",
      "source": [
        "from pyspark.sql.types import IntegerType, FloatType\n",
        "# Cast numerical columns to appropriate types\n",
        "df = df.withColumn(\"time_in_hospital\", col(\"time_in_hospital\").cast(IntegerType()))\n",
        "df = df.withColumn(\"num_procedures\", col(\"num_procedures\").cast(IntegerType()))\n",
        "df = df.withColumn(\"num_lab_procedures\", col(\"num_lab_procedures\").cast(IntegerType()))\n",
        "df = df.withColumn(\"num_medications\", col(\"num_medications\").cast(IntegerType()))\n",
        "df = df.withColumn(\"cost\", col(\"cost\").cast(FloatType()))\n",
        "\n",
        "# Verify the schema\n",
        "df.printSchema()"
      ],
      "metadata": {
        "colab": {
          "base_uri": "https://localhost:8080/"
        },
        "id": "A-1_Hm0L5XUQ",
        "outputId": "f64e52d8-83dc-44fe-b351-16cf9ec6cc63"
      },
      "execution_count": null,
      "outputs": [
        {
          "output_type": "stream",
          "name": "stdout",
          "text": [
            "root\n",
            " |-- _c0: integer (nullable = true)\n",
            " |-- race: string (nullable = true)\n",
            " |-- gender: string (nullable = true)\n",
            " |-- age: integer (nullable = true)\n",
            " |-- diag_1: string (nullable = true)\n",
            " |-- diag_2: string (nullable = true)\n",
            " |-- diag_3: string (nullable = true)\n",
            " |-- time_in_hospital: integer (nullable = true)\n",
            " |-- num_procedures: integer (nullable = true)\n",
            " |-- num_lab_procedures: integer (nullable = true)\n",
            " |-- num_medications: integer (nullable = true)\n",
            " |-- readmitted: string (nullable = true)\n",
            " |-- cost: float (nullable = true)\n",
            "\n"
          ]
        }
      ]
    },
    {
      "cell_type": "code",
      "source": [
        "# Calculate IQR for cost\n",
        "quantiles = df.approxQuantile(\"cost\", [0.25, 0.75], 0.05)\n",
        "q1, q3 = quantiles[0], quantiles[1]\n",
        "iqr = q3 - q1\n",
        "lower_bound = q1 - 1.5 * iqr\n",
        "upper_bound = q3 + 1.5 * iqr\n",
        "\n",
        "# Filter out outliers in cost\n",
        "df = df.filter((col(\"cost\") >= lower_bound) & (col(\"cost\") <= upper_bound))\n",
        "\n",
        "# Show the filtered dataset\n",
        "df.select(\"cost\").describe().show()"
      ],
      "metadata": {
        "colab": {
          "base_uri": "https://localhost:8080/"
        },
        "id": "d-sFNuRK5klX",
        "outputId": "6bb97a82-2d5b-4f3a-cb1d-ba96ebd9fe06"
      },
      "execution_count": null,
      "outputs": [
        {
          "output_type": "stream",
          "name": "stdout",
          "text": [
            "+-------+-----------------+\n",
            "|summary|             cost|\n",
            "+-------+-----------------+\n",
            "|  count|            98424|\n",
            "|   mean|8523.455546217469|\n",
            "| stddev|3112.769478960883|\n",
            "|    min|        1441.4276|\n",
            "|    max|        16450.281|\n",
            "+-------+-----------------+\n",
            "\n"
          ]
        }
      ]
    },
    {
      "cell_type": "code",
      "source": [],
      "metadata": {
        "id": "ZJZHcDxD5xDa"
      },
      "execution_count": null,
      "outputs": []
    },
    {
      "cell_type": "markdown",
      "source": [
        "Feature engineering"
      ],
      "metadata": {
        "id": "cKkCbO6x4AOf"
      }
    },
    {
      "cell_type": "code",
      "source": [
        "df = spark.read.csv(\"cleaned_diabetic_data_required_only.csv\", header=True, inferSchema=True)"
      ],
      "metadata": {
        "id": "oxEBFMxS4HtM"
      },
      "execution_count": null,
      "outputs": []
    },
    {
      "cell_type": "code",
      "source": [
        "# Create a feature for total diagnoses\n",
        "df = df.withColumn(\"total_diagnoses\",\n",
        "                   when(col(\"diag_1\") != \"Unknown\", 1).otherwise(0) +\n",
        "                   when(col(\"diag_2\") != \"Unknown\", 1).otherwise(0) +\n",
        "                   when(col(\"diag_3\") != \"Unknown\", 1).otherwise(0))\n",
        "\n",
        "# Show the new column\n",
        "df.select(\"diag_1\", \"diag_2\", \"diag_3\", \"total_diagnoses\").show(5)"
      ],
      "metadata": {
        "colab": {
          "base_uri": "https://localhost:8080/"
        },
        "id": "wbkT9VBj2zwU",
        "outputId": "289ad13d-33e5-44b1-fb02-80e9dc27cd63"
      },
      "execution_count": null,
      "outputs": [
        {
          "output_type": "stream",
          "name": "stdout",
          "text": [
            "+------+-------+-------+---------------+\n",
            "|diag_1| diag_2| diag_3|total_diagnoses|\n",
            "+------+-------+-------+---------------+\n",
            "|250.83|Unknown|Unknown|              1|\n",
            "|   276| 250.01|    255|              3|\n",
            "|   648|    250|    V27|              3|\n",
            "|     8| 250.43|    403|              3|\n",
            "|   197|    157|    250|              3|\n",
            "+------+-------+-------+---------------+\n",
            "only showing top 5 rows\n",
            "\n"
          ]
        }
      ]
    },
    {
      "cell_type": "code",
      "source": [
        "# Create cost_per_day feature\n",
        "df = df.withColumn(\"cost_per_day\", col(\"cost\") / col(\"time_in_hospital\"))\n",
        "\n",
        "# Handle division by zero\n",
        "df = df.withColumn(\"cost_per_day\", when(col(\"time_in_hospital\") == 0, 0).otherwise(col(\"cost_per_day\")))\n",
        "\n",
        "# Show the new column\n",
        "df.select(\"cost\", \"time_in_hospital\", \"cost_per_day\").show(5)"
      ],
      "metadata": {
        "colab": {
          "base_uri": "https://localhost:8080/"
        },
        "id": "90xaj1Vj4ZZW",
        "outputId": "aa6d2ea9-278f-4be8-8eff-7e540304a1a1"
      },
      "execution_count": null,
      "outputs": [
        {
          "output_type": "stream",
          "name": "stdout",
          "text": [
            "+---------+----------------+------------------+\n",
            "|     cost|time_in_hospital|      cost_per_day|\n",
            "+---------+----------------+------------------+\n",
            "|5385.6416|               1|   5385.6416015625|\n",
            "| 8960.535|               3|2986.8450520833335|\n",
            "| 8717.027|               2|    4358.513671875|\n",
            "|7204.9355|               2|   3602.4677734375|\n",
            "|7023.0815|               1|  7023.08154296875|\n",
            "+---------+----------------+------------------+\n",
            "only showing top 5 rows\n",
            "\n"
          ]
        }
      ]
    },
    {
      "cell_type": "code",
      "source": [
        "# Create total_procedures feature\n",
        "df = df.withColumn(\"total_procedures\", col(\"num_procedures\") + col(\"num_lab_procedures\"))\n",
        "\n",
        "# Show the new column\n",
        "df.select(\"num_procedures\", \"num_lab_procedures\", \"total_procedures\").show(5)"
      ],
      "metadata": {
        "colab": {
          "base_uri": "https://localhost:8080/"
        },
        "id": "gTg_-RuF4c3W",
        "outputId": "7e87746f-4fdb-49b3-c68a-56a22dc9ad9b"
      },
      "execution_count": null,
      "outputs": [
        {
          "output_type": "stream",
          "name": "stdout",
          "text": [
            "+--------------+------------------+----------------+\n",
            "|num_procedures|num_lab_procedures|total_procedures|\n",
            "+--------------+------------------+----------------+\n",
            "|             0|                41|              41|\n",
            "|             0|                59|              59|\n",
            "|             5|                11|              16|\n",
            "|             1|                44|              45|\n",
            "|             0|                51|              51|\n",
            "+--------------+------------------+----------------+\n",
            "only showing top 5 rows\n",
            "\n"
          ]
        }
      ]
    },
    {
      "cell_type": "code",
      "source": [
        "# Create age bins\n",
        "df = df.withColumn(\"age_group\",\n",
        "                   when(col(\"age\") < 18, \"Child\")\n",
        "                   .when((col(\"age\") >= 18) & (col(\"age\") < 35), \"Young Adult\")\n",
        "                   .when((col(\"age\") >= 35) & (col(\"age\") < 65), \"Adult\")\n",
        "                   .otherwise(\"Senior\"))\n",
        "\n",
        "# Show the new column\n",
        "df.select(\"age\", \"age_group\").show(5)"
      ],
      "metadata": {
        "colab": {
          "base_uri": "https://localhost:8080/"
        },
        "id": "yfCJ126D4gNQ",
        "outputId": "e776f1f7-2a64-4b2e-dc24-9dfc51171dcb"
      },
      "execution_count": null,
      "outputs": [
        {
          "output_type": "stream",
          "name": "stdout",
          "text": [
            "+---+-----------+\n",
            "|age|  age_group|\n",
            "+---+-----------+\n",
            "|  5|      Child|\n",
            "| 15|      Child|\n",
            "| 25|Young Adult|\n",
            "| 35|      Adult|\n",
            "| 45|      Adult|\n",
            "+---+-----------+\n",
            "only showing top 5 rows\n",
            "\n"
          ]
        }
      ]
    },
    {
      "cell_type": "code",
      "source": [
        "from pyspark.ml.feature import StringIndexer\n",
        "\n",
        "# Convert readmitted to a binary index\n",
        "indexer = StringIndexer(inputCol=\"readmitted\", outputCol=\"readmitted_index\")\n",
        "df = indexer.fit(df).transform(df)\n",
        "\n",
        "# Show the new column\n",
        "df.select(\"readmitted\", \"readmitted_index\").show(5)"
      ],
      "metadata": {
        "colab": {
          "base_uri": "https://localhost:8080/"
        },
        "id": "rpaJeswd4h0a",
        "outputId": "c7e2fcbf-955e-40b0-b210-7361ce07c8b0"
      },
      "execution_count": null,
      "outputs": [
        {
          "output_type": "stream",
          "name": "stdout",
          "text": [
            "+----------+----------------+\n",
            "|readmitted|readmitted_index|\n",
            "+----------+----------------+\n",
            "|        No|             0.0|\n",
            "|       Yes|             1.0|\n",
            "|        No|             0.0|\n",
            "|        No|             0.0|\n",
            "|        No|             0.0|\n",
            "+----------+----------------+\n",
            "only showing top 5 rows\n",
            "\n"
          ]
        }
      ]
    },
    {
      "cell_type": "code",
      "source": [
        "from pyspark.sql.functions import avg # Import the avg function\n",
        "\n",
        "# Calculate the average cost\n",
        "avg_cost = df.select(avg(\"cost\").alias(\"avg_cost\")).collect()[0][\"avg_cost\"]\n",
        "\n",
        "# Create high_cost indicator\n",
        "df = df.withColumn(\"high_cost\", when(col(\"cost\") > avg_cost, 1).otherwise(0))\n",
        "\n",
        "# Show the new column\n",
        "df.select(\"cost\", \"high_cost\").show(5)"
      ],
      "metadata": {
        "colab": {
          "base_uri": "https://localhost:8080/"
        },
        "id": "fmfTfNUz6Lin",
        "outputId": "82cda11e-2db3-4259-cfa7-ad3939151549"
      },
      "execution_count": null,
      "outputs": [
        {
          "output_type": "stream",
          "name": "stdout",
          "text": [
            "+---------+---------+\n",
            "|     cost|high_cost|\n",
            "+---------+---------+\n",
            "|5385.6416|        0|\n",
            "| 8960.535|        1|\n",
            "| 8717.027|        1|\n",
            "|7204.9355|        0|\n",
            "|7023.0815|        0|\n",
            "+---------+---------+\n",
            "only showing top 5 rows\n",
            "\n"
          ]
        }
      ]
    },
    {
      "cell_type": "code",
      "source": [
        "# Create diagnosis_complexity feature\n",
        "df = df.withColumn(\"diagnosis_complexity\", when(col(\"total_diagnoses\") > 1, 1).otherwise(0))\n",
        "\n",
        "# Show the new column\n",
        "df.select(\"total_diagnoses\", \"diagnosis_complexity\").show(5)"
      ],
      "metadata": {
        "colab": {
          "base_uri": "https://localhost:8080/"
        },
        "id": "lVQgYUTw6Uw9",
        "outputId": "f68db753-e888-4932-846d-cb2a08526b91"
      },
      "execution_count": null,
      "outputs": [
        {
          "output_type": "stream",
          "name": "stdout",
          "text": [
            "+---------------+--------------------+\n",
            "|total_diagnoses|diagnosis_complexity|\n",
            "+---------------+--------------------+\n",
            "|              1|                   0|\n",
            "|              3|                   1|\n",
            "|              3|                   1|\n",
            "|              3|                   1|\n",
            "|              3|                   1|\n",
            "+---------------+--------------------+\n",
            "only showing top 5 rows\n",
            "\n"
          ]
        }
      ]
    },
    {
      "cell_type": "code",
      "source": [
        "from pyspark.ml.feature import StringIndexer, OneHotEncoder\n",
        "from pyspark.ml import Pipeline\n",
        "\n",
        "# Index and encode race and gender\n",
        "race_indexer = StringIndexer(inputCol=\"race\", outputCol=\"race_index\")\n",
        "gender_indexer = StringIndexer(inputCol=\"gender\", outputCol=\"gender_index\")\n",
        "race_encoder = OneHotEncoder(inputCols=[\"race_index\"], outputCols=[\"race_encoded\"])\n",
        "gender_encoder = OneHotEncoder(inputCols=[\"gender_index\"], outputCols=[\"gender_encoded\"])\n",
        "\n",
        "# Create a pipeline for encoding\n",
        "pipeline = Pipeline(stages=[race_indexer, gender_indexer, race_encoder, gender_encoder])\n",
        "df = pipeline.fit(df).transform(df)\n",
        "\n",
        "# Drop intermediate columns\n",
        "df = df.drop(\"race_index\", \"gender_index\")\n",
        "\n",
        "# Show the encoded columns\n",
        "df.select(\"race\", \"race_encoded\", \"gender\", \"gender_encoded\").show(5)"
      ],
      "metadata": {
        "colab": {
          "base_uri": "https://localhost:8080/"
        },
        "id": "RKaH9vx_6icV",
        "outputId": "7fe87d04-1807-4ab0-9c82-38aa585ab934"
      },
      "execution_count": null,
      "outputs": [
        {
          "output_type": "stream",
          "name": "stdout",
          "text": [
            "+---------------+-------------+------+--------------+\n",
            "|           race| race_encoded|gender|gender_encoded|\n",
            "+---------------+-------------+------+--------------+\n",
            "|      Caucasian|(4,[0],[1.0])|Female| (2,[0],[1.0])|\n",
            "|      Caucasian|(4,[0],[1.0])|Female| (2,[0],[1.0])|\n",
            "|AfricanAmerican|(4,[1],[1.0])|Female| (2,[0],[1.0])|\n",
            "|      Caucasian|(4,[0],[1.0])|  Male| (2,[1],[1.0])|\n",
            "|      Caucasian|(4,[0],[1.0])|  Male| (2,[1],[1.0])|\n",
            "+---------------+-------------+------+--------------+\n",
            "only showing top 5 rows\n",
            "\n"
          ]
        }
      ]
    },
    {
      "cell_type": "code",
      "source": [
        "# Create procedure_intensity feature based on the total_procedures\n",
        "# Define a threshold for high intensity (you can adjust this)\n",
        "high_intensity_threshold = 5\n",
        "\n",
        "# Create a new column called procedure_intensity\n",
        "df = df.withColumn(\"procedure_intensity\", when(col(\"total_procedures\") > high_intensity_threshold, 1).otherwise(0))\n",
        "\n",
        "# Now, re-run the select statement to include procedure_intensity:\n",
        "df.select(\"age\", \"age_group\", \"total_diagnoses\", \"diagnosis_complexity\",\n",
        "          \"total_procedures\", \"procedure_intensity\", \"cost\", \"cost_per_day\",\n",
        "          \"high_cost\", \"readmitted\", \"readmitted_index\", \"race_encoded\", \"gender_encoded\").show(5)"
      ],
      "metadata": {
        "colab": {
          "base_uri": "https://localhost:8080/"
        },
        "id": "Ymss1Raw6mbZ",
        "outputId": "c5486f2f-c145-4532-ce49-7c58b4a62119"
      },
      "execution_count": null,
      "outputs": [
        {
          "output_type": "stream",
          "name": "stdout",
          "text": [
            "+---+-----------+---------------+--------------------+----------------+-------------------+---------+------------------+---------+----------+----------------+-------------+--------------+\n",
            "|age|  age_group|total_diagnoses|diagnosis_complexity|total_procedures|procedure_intensity|     cost|      cost_per_day|high_cost|readmitted|readmitted_index| race_encoded|gender_encoded|\n",
            "+---+-----------+---------------+--------------------+----------------+-------------------+---------+------------------+---------+----------+----------------+-------------+--------------+\n",
            "|  5|      Child|              1|                   0|              41|                  1|5385.6416|   5385.6416015625|        0|        No|             0.0|(4,[0],[1.0])| (2,[0],[1.0])|\n",
            "| 15|      Child|              3|                   1|              59|                  1| 8960.535|2986.8450520833335|        1|       Yes|             1.0|(4,[0],[1.0])| (2,[0],[1.0])|\n",
            "| 25|Young Adult|              3|                   1|              16|                  1| 8717.027|    4358.513671875|        1|        No|             0.0|(4,[1],[1.0])| (2,[0],[1.0])|\n",
            "| 35|      Adult|              3|                   1|              45|                  1|7204.9355|   3602.4677734375|        0|        No|             0.0|(4,[0],[1.0])| (2,[1],[1.0])|\n",
            "| 45|      Adult|              3|                   1|              51|                  1|7023.0815|  7023.08154296875|        0|        No|             0.0|(4,[0],[1.0])| (2,[1],[1.0])|\n",
            "+---+-----------+---------------+--------------------+----------------+-------------------+---------+------------------+---------+----------+----------------+-------------+--------------+\n",
            "only showing top 5 rows\n",
            "\n"
          ]
        }
      ]
    },
    {
      "cell_type": "code",
      "source": [
        "# Convert to Pandas and save as CSV\n",
        "df_pandas = df.toPandas()\n",
        "df_pandas.to_csv(\"transformed_engineered_healthcare_dataset.csv\", index=False)\n",
        "\n",
        "# Download the file\n",
        "from google.colab import files\n",
        "files.download(\"transformed_engineered_healthcare_dataset.csv\")"
      ],
      "metadata": {
        "colab": {
          "base_uri": "https://localhost:8080/",
          "height": 17
        },
        "id": "agBP6cdI6qlr",
        "outputId": "132a74c0-9e94-49d1-88ce-eecefac655be"
      },
      "execution_count": null,
      "outputs": [
        {
          "output_type": "display_data",
          "data": {
            "text/plain": [
              "<IPython.core.display.Javascript object>"
            ],
            "application/javascript": [
              "\n",
              "    async function download(id, filename, size) {\n",
              "      if (!google.colab.kernel.accessAllowed) {\n",
              "        return;\n",
              "      }\n",
              "      const div = document.createElement('div');\n",
              "      const label = document.createElement('label');\n",
              "      label.textContent = `Downloading \"${filename}\": `;\n",
              "      div.appendChild(label);\n",
              "      const progress = document.createElement('progress');\n",
              "      progress.max = size;\n",
              "      div.appendChild(progress);\n",
              "      document.body.appendChild(div);\n",
              "\n",
              "      const buffers = [];\n",
              "      let downloaded = 0;\n",
              "\n",
              "      const channel = await google.colab.kernel.comms.open(id);\n",
              "      // Send a message to notify the kernel that we're ready.\n",
              "      channel.send({})\n",
              "\n",
              "      for await (const message of channel.messages) {\n",
              "        // Send a message to notify the kernel that we're ready.\n",
              "        channel.send({})\n",
              "        if (message.buffers) {\n",
              "          for (const buffer of message.buffers) {\n",
              "            buffers.push(buffer);\n",
              "            downloaded += buffer.byteLength;\n",
              "            progress.value = downloaded;\n",
              "          }\n",
              "        }\n",
              "      }\n",
              "      const blob = new Blob(buffers, {type: 'application/binary'});\n",
              "      const a = document.createElement('a');\n",
              "      a.href = window.URL.createObjectURL(blob);\n",
              "      a.download = filename;\n",
              "      div.appendChild(a);\n",
              "      a.click();\n",
              "      div.remove();\n",
              "    }\n",
              "  "
            ]
          },
          "metadata": {}
        },
        {
          "output_type": "display_data",
          "data": {
            "text/plain": [
              "<IPython.core.display.Javascript object>"
            ],
            "application/javascript": [
              "download(\"download_7ff25a3b-8f23-4c26-9d69-1ea7df4c3316\", \"transformed_engineered_healthcare_dataset.csv\", 13005323)"
            ]
          },
          "metadata": {}
        }
      ]
    },
    {
      "cell_type": "code",
      "source": [],
      "metadata": {
        "id": "z0ftW2_l65N8"
      },
      "execution_count": null,
      "outputs": []
    }
  ]
}